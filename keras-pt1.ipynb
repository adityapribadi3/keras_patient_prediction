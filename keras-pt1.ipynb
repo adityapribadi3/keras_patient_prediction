{
 "cells": [
  {
   "cell_type": "code",
   "execution_count": 1,
   "metadata": {},
   "outputs": [],
   "source": [
    "import numpy as np\n",
    "from random import randint\n",
    "from sklearn.utils import shuffle\n",
    "from sklearn.preprocessing import MinMaxScaler"
   ]
  },
  {
   "cell_type": "code",
   "execution_count": 2,
   "metadata": {},
   "outputs": [],
   "source": [
    "train_labels = []\n",
    "train_samples = []"
   ]
  },
  {
   "cell_type": "code",
   "execution_count": 3,
   "metadata": {},
   "outputs": [],
   "source": [
    "for i in range(50):\n",
    "    # The ~5% of younger individuals who did experience side effects\n",
    "    random_younger = randint(13,64)\n",
    "    train_samples.append(random_younger)\n",
    "    train_labels.append(1)\n",
    "\n",
    "    # The ~5% of older individuals who did not experience side effects\n",
    "    random_older = randint(65,100)\n",
    "    train_samples.append(random_older)\n",
    "    train_labels.append(0)\n",
    "\n",
    "for i in range(1000):\n",
    "    # The ~95% of younger individuals who did not experience side effects\n",
    "    random_younger = randint(13,64)\n",
    "    train_samples.append(random_younger)\n",
    "    train_labels.append(0)\n",
    "\n",
    "    # The ~95% of older individuals who did experience side effects\n",
    "    random_older = randint(65,100)\n",
    "    train_samples.append(random_older)\n",
    "    train_labels.append(1)"
   ]
  },
  {
   "cell_type": "code",
   "execution_count": 4,
   "metadata": {},
   "outputs": [],
   "source": [
    "train_labels = np.array(train_labels)\n",
    "train_samples = np.array(train_samples)\n",
    "train_labels, train_samples = shuffle(train_labels, train_samples)"
   ]
  },
  {
   "cell_type": "code",
   "execution_count": 5,
   "metadata": {},
   "outputs": [],
   "source": [
    "scaler = MinMaxScaler(feature_range=(0,1))\n",
    "scaled_train_samples = scaler.fit_transform(train_samples.reshape(-1,1))"
   ]
  },
  {
   "cell_type": "code",
   "execution_count": 6,
   "metadata": {},
   "outputs": [],
   "source": [
    "import tensorflow as tf\n",
    "from tensorflow import keras\n",
    "from tensorflow.keras.models import Sequential\n",
    "from tensorflow.keras.layers import Activation, Dense\n",
    "from tensorflow.keras.optimizers import Adam\n",
    "from tensorflow.keras.metrics import categorical_crossentropy"
   ]
  },
  {
   "cell_type": "code",
   "execution_count": 7,
   "metadata": {},
   "outputs": [],
   "source": [
    "model = Sequential([\n",
    "    Dense(units=16, input_shape=(1,), activation='relu'),\n",
    "    Dense(units=32, activation='relu'),\n",
    "    Dense(units=2, activation='softmax')\n",
    "])"
   ]
  },
  {
   "cell_type": "code",
   "execution_count": 8,
   "metadata": {},
   "outputs": [
    {
     "name": "stdout",
     "output_type": "stream",
     "text": [
      "Model: \"sequential\"\n",
      "_________________________________________________________________\n",
      "Layer (type)                 Output Shape              Param #   \n",
      "=================================================================\n",
      "dense (Dense)                (None, 16)                32        \n",
      "_________________________________________________________________\n",
      "dense_1 (Dense)              (None, 32)                544       \n",
      "_________________________________________________________________\n",
      "dense_2 (Dense)              (None, 2)                 66        \n",
      "=================================================================\n",
      "Total params: 642\n",
      "Trainable params: 642\n",
      "Non-trainable params: 0\n",
      "_________________________________________________________________\n"
     ]
    }
   ],
   "source": [
    "model.summary()"
   ]
  },
  {
   "cell_type": "code",
   "execution_count": 9,
   "metadata": {},
   "outputs": [],
   "source": [
    "model.compile(optimizer=Adam(learning_rate=0.0001), loss='sparse_categorical_crossentropy', metrics=['accuracy'])"
   ]
  },
  {
   "cell_type": "code",
   "execution_count": 10,
   "metadata": {},
   "outputs": [
    {
     "name": "stdout",
     "output_type": "stream",
     "text": [
      "Epoch 1/30\n",
      "189/189 - 0s - loss: 0.7317 - accuracy: 0.3884 - val_loss: 0.7072 - val_accuracy: 0.2571\n",
      "Epoch 2/30\n",
      "189/189 - 0s - loss: 0.6865 - accuracy: 0.5349 - val_loss: 0.6693 - val_accuracy: 0.6762\n",
      "Epoch 3/30\n",
      "189/189 - 0s - loss: 0.6509 - accuracy: 0.7270 - val_loss: 0.6429 - val_accuracy: 0.7143\n",
      "Epoch 4/30\n",
      "189/189 - 0s - loss: 0.6245 - accuracy: 0.7444 - val_loss: 0.6175 - val_accuracy: 0.7429\n",
      "Epoch 5/30\n",
      "189/189 - 0s - loss: 0.5966 - accuracy: 0.7725 - val_loss: 0.5908 - val_accuracy: 0.7524\n",
      "Epoch 6/30\n",
      "189/189 - 0s - loss: 0.5687 - accuracy: 0.7921 - val_loss: 0.5639 - val_accuracy: 0.7667\n",
      "Epoch 7/30\n",
      "189/189 - 0s - loss: 0.5410 - accuracy: 0.8069 - val_loss: 0.5361 - val_accuracy: 0.7952\n",
      "Epoch 8/30\n",
      "189/189 - 0s - loss: 0.5138 - accuracy: 0.8339 - val_loss: 0.5088 - val_accuracy: 0.8190\n",
      "Epoch 9/30\n",
      "189/189 - 0s - loss: 0.4866 - accuracy: 0.8444 - val_loss: 0.4807 - val_accuracy: 0.8476\n",
      "Epoch 10/30\n",
      "189/189 - 1s - loss: 0.4609 - accuracy: 0.8661 - val_loss: 0.4553 - val_accuracy: 0.8667\n",
      "Epoch 11/30\n",
      "189/189 - 1s - loss: 0.4369 - accuracy: 0.8762 - val_loss: 0.4317 - val_accuracy: 0.8714\n",
      "Epoch 12/30\n",
      "189/189 - 1s - loss: 0.4146 - accuracy: 0.8820 - val_loss: 0.4082 - val_accuracy: 0.8857\n",
      "Epoch 13/30\n",
      "189/189 - 1s - loss: 0.3943 - accuracy: 0.8899 - val_loss: 0.3895 - val_accuracy: 0.8857\n",
      "Epoch 14/30\n",
      "189/189 - 0s - loss: 0.3761 - accuracy: 0.8958 - val_loss: 0.3720 - val_accuracy: 0.8857\n",
      "Epoch 15/30\n",
      "189/189 - 1s - loss: 0.3602 - accuracy: 0.8974 - val_loss: 0.3551 - val_accuracy: 0.8952\n",
      "Epoch 16/30\n",
      "189/189 - 1s - loss: 0.3461 - accuracy: 0.9063 - val_loss: 0.3418 - val_accuracy: 0.9095\n",
      "Epoch 17/30\n",
      "189/189 - 1s - loss: 0.3341 - accuracy: 0.9095 - val_loss: 0.3290 - val_accuracy: 0.9095\n",
      "Epoch 18/30\n",
      "189/189 - 1s - loss: 0.3239 - accuracy: 0.9090 - val_loss: 0.3188 - val_accuracy: 0.9190\n",
      "Epoch 19/30\n",
      "189/189 - 0s - loss: 0.3153 - accuracy: 0.9159 - val_loss: 0.3106 - val_accuracy: 0.9190\n",
      "Epoch 20/30\n",
      "189/189 - 1s - loss: 0.3077 - accuracy: 0.9185 - val_loss: 0.3033 - val_accuracy: 0.9190\n",
      "Epoch 21/30\n",
      "189/189 - 0s - loss: 0.3015 - accuracy: 0.9190 - val_loss: 0.2971 - val_accuracy: 0.9190\n",
      "Epoch 22/30\n",
      "189/189 - 0s - loss: 0.2961 - accuracy: 0.9201 - val_loss: 0.2898 - val_accuracy: 0.9143\n",
      "Epoch 23/30\n",
      "189/189 - 0s - loss: 0.2915 - accuracy: 0.9190 - val_loss: 0.2854 - val_accuracy: 0.9143\n",
      "Epoch 24/30\n",
      "189/189 - 0s - loss: 0.2875 - accuracy: 0.9243 - val_loss: 0.2808 - val_accuracy: 0.9143\n",
      "Epoch 25/30\n",
      "189/189 - 0s - loss: 0.2842 - accuracy: 0.9243 - val_loss: 0.2775 - val_accuracy: 0.9143\n",
      "Epoch 26/30\n",
      "189/189 - 0s - loss: 0.2813 - accuracy: 0.9243 - val_loss: 0.2742 - val_accuracy: 0.9143\n",
      "Epoch 27/30\n",
      "189/189 - 0s - loss: 0.2787 - accuracy: 0.9243 - val_loss: 0.2718 - val_accuracy: 0.9143\n",
      "Epoch 28/30\n",
      "189/189 - 0s - loss: 0.2767 - accuracy: 0.9243 - val_loss: 0.2694 - val_accuracy: 0.9143\n",
      "Epoch 29/30\n",
      "189/189 - 0s - loss: 0.2748 - accuracy: 0.9243 - val_loss: 0.2671 - val_accuracy: 0.9143\n",
      "Epoch 30/30\n",
      "189/189 - 1s - loss: 0.2732 - accuracy: 0.9243 - val_loss: 0.2647 - val_accuracy: 0.9143\n"
     ]
    },
    {
     "data": {
      "text/plain": [
       "<tensorflow.python.keras.callbacks.History at 0x136ef6050>"
      ]
     },
     "execution_count": 10,
     "metadata": {},
     "output_type": "execute_result"
    }
   ],
   "source": [
    "model.fit(\n",
    "      x=scaled_train_samples\n",
    "    , y=train_labels\n",
    "    , validation_split=0.1\n",
    "    , batch_size=10\n",
    "    , epochs=30\n",
    "    , verbose=2\n",
    ")"
   ]
  },
  {
   "cell_type": "code",
   "execution_count": 11,
   "metadata": {},
   "outputs": [],
   "source": [
    "test_labels =  []\n",
    "test_samples = []\n",
    "\n",
    "for i in range(10):\n",
    "    # The 5% of younger individuals who did experience side effects\n",
    "    random_younger = randint(13,64)\n",
    "    test_samples.append(random_younger)\n",
    "    test_labels.append(1)\n",
    "\n",
    "    # The 5% of older individuals who did not experience side effects\n",
    "    random_older = randint(65,100)\n",
    "    test_samples.append(random_older)\n",
    "    test_labels.append(0)\n",
    "\n",
    "for i in range(200):\n",
    "    # The 95% of younger individuals who did not experience side effects\n",
    "    random_younger = randint(13,64)\n",
    "    test_samples.append(random_younger)\n",
    "    test_labels.append(0)\n",
    "\n",
    "    # The 95% of older individuals who did experience side effects\n",
    "    random_older = randint(65,100)\n",
    "    test_samples.append(random_older)\n",
    "    test_labels.append(1)\n",
    "\n",
    "test_labels = np.array(test_labels)\n",
    "test_samples = np.array(test_samples)\n",
    "test_labels, test_samples = shuffle(test_labels, test_samples)\n",
    "\n",
    "scaled_test_samples = scaler.fit_transform(test_samples.reshape(-1,1))"
   ]
  },
  {
   "cell_type": "code",
   "execution_count": 12,
   "metadata": {},
   "outputs": [],
   "source": [
    "predictions = model.predict(\n",
    "      x=scaled_test_samples\n",
    "    , batch_size=10\n",
    "    , verbose=0\n",
    ")  "
   ]
  },
  {
   "cell_type": "code",
   "execution_count": 13,
   "metadata": {},
   "outputs": [],
   "source": [
    "rounded_predictions = np.argmax(predictions, axis=-1)"
   ]
  },
  {
   "cell_type": "code",
   "execution_count": 14,
   "metadata": {},
   "outputs": [],
   "source": [
    "%matplotlib inline\n",
    "from sklearn.metrics import confusion_matrix\n",
    "import itertools\n",
    "import matplotlib.pyplot as plt"
   ]
  },
  {
   "cell_type": "code",
   "execution_count": 15,
   "metadata": {},
   "outputs": [],
   "source": [
    "cm = confusion_matrix(y_true=test_labels, y_pred=rounded_predictions)"
   ]
  },
  {
   "cell_type": "code",
   "execution_count": 16,
   "metadata": {},
   "outputs": [],
   "source": [
    "def plot_confusion_matrix(cm, classes,\n",
    "                        normalize=False,\n",
    "                        title='Confusion matrix',\n",
    "                        cmap=plt.cm.Blues):\n",
    "    \"\"\"\n",
    "    This function prints and plots the confusion matrix.\n",
    "    Normalization can be applied by setting `normalize=True`.\n",
    "    \"\"\"\n",
    "    plt.imshow(cm, interpolation='nearest', cmap=cmap)\n",
    "    plt.title(title)\n",
    "    plt.colorbar()\n",
    "    tick_marks = np.arange(len(classes))\n",
    "    plt.xticks(tick_marks, classes, rotation=45)\n",
    "    plt.yticks(tick_marks, classes)\n",
    "\n",
    "    if normalize:\n",
    "        cm = cm.astype('float') / cm.sum(axis=1)[:, np.newaxis]\n",
    "        print(\"Normalized confusion matrix\")\n",
    "    else:\n",
    "        print('Confusion matrix, without normalization')\n",
    "\n",
    "    print(cm)\n",
    "\n",
    "    thresh = cm.max() / 2.\n",
    "    for i, j in itertools.product(range(cm.shape[0]), range(cm.shape[1])):\n",
    "        plt.text(j, i, cm[i, j],\n",
    "            horizontalalignment=\"center\",\n",
    "            color=\"white\" if cm[i, j] > thresh else \"black\")\n",
    "\n",
    "    plt.tight_layout()\n",
    "    plt.ylabel('True label')\n",
    "    plt.xlabel('Predicted label')"
   ]
  },
  {
   "cell_type": "code",
   "execution_count": 17,
   "metadata": {},
   "outputs": [
    {
     "name": "stdout",
     "output_type": "stream",
     "text": [
      "Confusion matrix, without normalization\n",
      "[[186  24]\n",
      " [ 10 200]]\n"
     ]
    },
    {
     "data": {
      "image/png": "[encoded data removed]",
      "text/plain": [
       "<Figure size 432x288 with 2 Axes>"
      ]
     },
     "metadata": {
      "needs_background": "light"
     },
     "output_type": "display_data"
    }
   ],
   "source": [
    "cm_plot_labels = ['no_side_effects','had_side_effects']\n",
    "plot_confusion_matrix(cm=cm, classes=cm_plot_labels, title='Confusion Matrix')"
   ]
  },
  {
   "cell_type": "code",
   "execution_count": null,
   "metadata": {},
   "outputs": [],
   "source": []
  }
 ],
 "metadata": {
  "kernelspec": {
   "display_name": "Python 3",
   "language": "python",
   "name": "python3"
  },
  "language_info": {
   "codemirror_mode": {
    "name": "ipython",
    "version": 3
   },
   "file_extension": ".py",
   "mimetype": "text/x-python",
   "name": "python",
   "nbconvert_exporter": "python",
   "pygments_lexer": "ipython3",
   "version": "3.7.9"
  }
 },
 "nbformat": 4,
 "nbformat_minor": 4
}
